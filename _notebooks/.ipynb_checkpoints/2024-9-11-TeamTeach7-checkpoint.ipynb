{
 "cells": [
  {
   "cell_type": "code",
   "execution_count": null,
   "metadata": {},
   "outputs": [],
   "source": [
    "---\n",
    "layout: post\n",
    "toc: true\n",
    "title: Unit 7 - Arraylists\n",
    "description: ArrayLists Lesson\n",
    "authors: Aniket Chakradeo, Soham Kamat\n",
    "categories: [AP CSA]\n",
    "courses: { csa: {week: 6} }\n",
    "type: ccc\n",
    "permalink: /unit7lesson\n",
    "---"
   ]
  }
 ],
 "metadata": {
  "language_info": {
   "name": "python"
  }
 },
 "nbformat": 4,
 "nbformat_minor": 2
}
