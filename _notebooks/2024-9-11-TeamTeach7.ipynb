{
 "cells": [
  {
   "cell_type": "markdown",
   "metadata": {},
   "source": [
    "---\n",
    "layout: post\n",
    "toc: true\n",
    "title: Unit 7 - Arraylists\n",
    "description: ArrayLists Lesson\n",
    "authors: Aniket Chakradeo, Soham Kamat\n",
    "categories: [AP CSA]\n",
    "courses: { csa: {week: 6} }\n",
    "type: ccc\n",
    "permalink: /unit7lesson\n",
    "---"
   ]
  },
  {
   "cell_type": "markdown",
   "metadata": {},
   "source": [
    "# 7.3 Traversing Arraylists\n",
    "\n",
    "You can traverse through the elements in an ArrayList using loops. We can use For Each Loops, For Loops, and While Loops"
   ]
  },
  {
   "cell_type": "code",
   "execution_count": 3,
   "metadata": {
    "vscode": {
     "languageId": "java"
    }
   },
   "outputs": [
    {
     "name": "stdout",
     "output_type": "stream",
     "text": [
      "Sum of all elements: 100\n"
     ]
    }
   ],
   "source": [
    "//7.3.1: For Each Loop\n",
    "ArrayList<Integer> myList = new ArrayList<Integer>();\n",
    "        myList.add(50);\n",
    "        myList.add(30);\n",
    "        myList.add(20);\n",
    "        int total = 0;\n",
    "        for (Integer value : myList)\n",
    "        {\n",
    "            total += value;\n",
    "        }\n",
    "        System.out.println(\"Sum of all elements: \" + total);"
   ]
  },
  {
   "cell_type": "markdown",
   "metadata": {},
   "source": [
    "The problem with For Each loops is that you can't modify the ArrayList. To do that, you will need to use another type of loop. If you attempt to modify the Arraylist, you will get a ConcurrentModificationException exception"
   ]
  },
  {
   "cell_type": "code",
   "execution_count": 4,
   "metadata": {},
   "outputs": [
    {
     "ename": "EvalException",
     "evalue": "Index 3 out of bounds for length 3",
     "output_type": "error",
     "traceback": [
      "\u001b[1m\u001b[31m---------------------------------------------------------------------------\u001b[0m",
      "\u001b[1m\u001b[31mjava.lang.IndexOutOfBoundsException: Index 3 out of bounds for length 3\u001b[0m",
      "\u001b[1m\u001b[31m\tat java.base/jdk.internal.util.Preconditions.outOfBounds(Preconditions.java:64)\u001b[0m",
      "\u001b[1m\u001b[31m\tat java.base/jdk.internal.util.Preconditions.outOfBoundsCheckIndex(Preconditions.java:70)\u001b[0m",
      "\u001b[1m\u001b[31m\tat java.base/jdk.internal.util.Preconditions.checkIndex(Preconditions.java:266)\u001b[0m",
      "\u001b[1m\u001b[31m\tat java.base/java.util.Objects.checkIndex(Objects.java:361)\u001b[0m",
      "\u001b[1m\u001b[31m\tat java.base/java.util.ArrayList.get(ArrayList.java:427)\u001b[0m",
      "\u001b[1m\u001b[31m\tat .(#32:1)\u001b[0m"
     ]
    }
   ],
   "source": [
    "// 7.3.2 For Loops\n",
    "ArrayList<Integer> myList = new ArrayList<Integer>();\n",
    "        myList.add(50);\n",
    "        myList.add(30);\n",
    "        myList.add(20);\n",
    "        int total = 0;\n",
    "        for (int i = 0; i <= myList.size(); i++)\n",
    "        {\n",
    "            total = total + myList.get(i);\n",
    "        }\n",
    "        System.out.println(total);"
   ]
  },
  {
   "cell_type": "code",
   "execution_count": 5,
   "metadata": {},
   "outputs": [
    {
     "ename": "CompilationException",
     "evalue": "",
     "output_type": "error",
     "traceback": [
      "\u001b[1m\u001b[30m|   \u001b[1m\u001b[30m       int \u001b[0m\u001b[1m\u001b[30m\u001b[41m\u001b[0m\u001b[1m\u001b[30mindex = 0;\u001b[0m",
      "\u001b[1m\u001b[31m'.class' expected\u001b[0m",
      "",
      "\u001b[1m\u001b[30m|   \u001b[1m\u001b[30m           \u001b[0m\u001b[1m\u001b[30m\u001b[41m\u001b[0m\u001b[1m\u001b[30m}\u001b[0m",
      "\u001b[1m\u001b[31millegal start of expression\u001b[0m",
      ""
     ]
    }
   ],
   "source": [
    "//7.3.3 While Loops\n",
    "import java.util.*;\n",
    "public class ListWorker\n",
    "{\n",
    "   private ArrayList<String> nameList;\n",
    "\n",
    "   public ListWorker(ArrayList<String> nameList)\n",
    "   {\n",
    "       this.nameList = nameList;\n",
    "   }\n",
    "\n",
    "   public boolean removeName(String name)\n",
    "   {\n",
    "       boolean found =   // true or false?\n",
    "       int index = 0;\n",
    "       while (index < nameList.size())\n",
    "       {\n",
    "           if (name.equals(nameList.get(index)))\n",
    "           {\n",
    "               nameList.remove(index);\n",
    "               found =    // true or false?\n",
    "           }\n",
    "           else\n",
    "           {\n",
    "               index++;\n",
    "           }\n",
    "       }\n",
    "       return found;\n",
    "    }\n",
    "\n",
    "    public static void main(String[] args)\n",
    "    {\n",
    "        ArrayList<String> myList = new ArrayList<String>();\n",
    "        myList.add(\"Amun\");\n",
    "        myList.add(\"Ethan\");\n",
    "        myList.add(\"Donnie\");\n",
    "        myList.add(\"Ethan\");\n",
    "        ListWorker listWorker = new ListWorker(myList);\n",
    "        System.out.println(listWorker.nameList);\n",
    "        listWorker.removeName(\"Ethan\");\n",
    "        System.out.println(\"After removing Ethan: \"\n",
    "                  + listWorker.nameList);\n",
    "    }\n",
    "}"
   ]
  },
  {
   "cell_type": "code",
   "execution_count": null,
   "metadata": {},
   "outputs": [],
   "source": []
  }
 ],
 "metadata": {
  "kernelspec": {
   "display_name": "Java",
   "language": "java",
   "name": "java"
  },
  "language_info": {
   "codemirror_mode": "java",
   "file_extension": ".jshell",
   "mimetype": "text/x-java-source",
   "name": "Java",
   "pygments_lexer": "java",
   "version": "17.0.12+7-Ubuntu-1ubuntu224.04"
  }
 },
 "nbformat": 4,
 "nbformat_minor": 4
}
